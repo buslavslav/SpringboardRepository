{
 "cells": [
  {
   "cell_type": "markdown",
   "metadata": {},
   "source": [
    "# What is the True Normal Human Body Temperature?\n",
    "Background\n",
    "The mean normal body temperature was held to be 37C or 98.6F for more than 120 years since it was first conceptualized and reported by Carl Wunderlich in a famous 1868 book. But, is this value statistically correct?\n",
    "\n",
    "Answer the following questions in this notebook.\n",
    "\n",
    "1. Is the distribution of body temperatures normal?\n",
    "    Although this is not a requirement for CLT to hold (read CLT carefully), it gives us some peace of mind that the population     may also be normally distributed if we assume that this sample is representative of the population.\n",
    "\n",
    "2. Is the sample size large? Are the observations independent?\n",
    "    Remember that this is a condition for the CLT, and hence the statistical tests we are using, to apply.\n",
    "\n",
    "3. Is the true population mean really 98.6 degrees F?\n",
    "    Would you use a one-sample or two-sample test? Why?\n",
    "    In this situation, is it appropriate to use the tt or zz statistic?\n",
    "    Now try using the other test. How is the result be different? Why?\n",
    "    Draw a small sample of size 10 from the data and repeat both tests.\n",
    "    Which one is the correct one to use?\n",
    "    What do you notice? What does this tell you about the difference in application of the tt and zz statistic?\n",
    "\n",
    "4. At what temperature should we consider someone's temperature to be \"abnormal\"?\n",
    "    Start by computing the margin of error and confidence interval.\n",
    "\n",
    "5. Is there a significant difference between males and females in normal temperature?\n",
    "    What test did you use and why?\n",
    "    Write a story with your conclusion in the context of the original problem."
   ]
  },
  {
   "cell_type": "code",
   "execution_count": 59,
   "metadata": {
    "collapsed": true
   },
   "outputs": [],
   "source": [
    "#import all relevant libraries\n",
    "import pandas as pd\n",
    "import matplotlib.pyplot as plt\n",
    "import numpy as np\n",
    "import scipy as sp\n",
    "import scipy.stats\n",
    "import seaborn as sns\n",
    "import math\n",
    "\n",
    "df = pd.read_csv('Downloads/1509032434_human_temp/human_temp/data/human_body_temperature.csv')"
   ]
  },
  {
   "cell_type": "code",
   "execution_count": 9,
   "metadata": {},
   "outputs": [
    {
     "data": {
      "image/png": "[encoded data removed]",
      "text/plain": [
       "<matplotlib.figure.Figure at 0x1a9723da2b0>"
      ]
     },
     "metadata": {},
     "output_type": "display_data"
    }
   ],
   "source": [
    "#since the first question asks about the distribution of body temp, we'll start with a distplot\n",
    "sns.distplot(df.temperature)\n",
    "plt.show()"
   ]
  },
  {
   "cell_type": "markdown",
   "metadata": {},
   "source": [
    "1.This sample of the population shows a very clear normal distribution, with most of the population falling between 97F-99F. Wunderlich's estimate was 98.6F, so we can say his estimate was at least pretty close."
   ]
  },
  {
   "cell_type": "code",
   "execution_count": 11,
   "metadata": {},
   "outputs": [
    {
     "data": {
      "text/plain": [
       "130"
      ]
     },
     "execution_count": 11,
     "metadata": {},
     "output_type": "execute_result"
    }
   ],
   "source": [
    "df.temperature.count()"
   ]
  },
  {
   "cell_type": "markdown",
   "metadata": {},
   "source": [
    "2.With only 130 entries, this is not a large set by any means. However, for this exercise, it'll do\n",
    "Each observation is independent because the temperature of one person doesn't allude to the temperature of another person. "
   ]
  },
  {
   "cell_type": "code",
   "execution_count": 43,
   "metadata": {
    "collapsed": true
   },
   "outputs": [],
   "source": [
    "#since we'll be asked about the differences between male and female temps down the road, we'll separate them now\n",
    "M = df[df['gender'] == 'M'].temperature\n",
    "F = df[df['gender'] == 'F'].temperature"
   ]
  },
  {
   "cell_type": "code",
   "execution_count": 48,
   "metadata": {},
   "outputs": [
    {
     "name": "stdout",
     "output_type": "stream",
     "text": [
      "98.1046153846154 0.6987557623265908\n"
     ]
    }
   ],
   "source": [
    "print(M.mean(), M.std())"
   ]
  },
  {
   "cell_type": "code",
   "execution_count": 49,
   "metadata": {},
   "outputs": [
    {
     "name": "stdout",
     "output_type": "stream",
     "text": [
      "98.39384615384613 0.7434877527313664\n"
     ]
    }
   ],
   "source": [
    "print(F.mean(), F.std())"
   ]
  },
  {
   "cell_type": "code",
   "execution_count": 50,
   "metadata": {},
   "outputs": [
    {
     "name": "stdout",
     "output_type": "stream",
     "text": [
      "Sample mean and dev: [98.24923076923078, 0.730357778905038]\n",
      "Mean between male and female:  98.24923076923076\n"
     ]
    }
   ],
   "source": [
    "Sample_mean = np.mean(df.temperature)\n",
    "Sample_dev = np.std(df.temperature)\n",
    "\n",
    "print(\"Sample mean and dev:\", [Sample_mean, Sample_dev])\n",
    "\n",
    "Z = (M.mean()+F.mean())/2\n",
    "print(\"Mean between male and female: \", Z)"
   ]
  },
  {
   "cell_type": "markdown",
   "metadata": {},
   "source": [
    "3a.It seems that for this sample set, the population mean body temperature is roughly 98.25F, lower than what Wunderlich estimated.\n",
    "3b.Because we're only measuring the temperature variable, we can use a one-sample test for this set.\n",
    "3c.And since the sample size is >30 the sample distribution can be assumed to be normal and hence we can use the z statistic instead of a t statistic."
   ]
  },
  {
   "cell_type": "code",
   "execution_count": 62,
   "metadata": {
    "collapsed": true
   },
   "outputs": [],
   "source": [
    "def mean_confidence_interval(data, confidence=0.95):     \n",
    "    a = 1.0*np.array(data)\n",
    "    n = len(a)\n",
    "    m, se = np.mean(a), scipy.stats.sem(a)\n",
    "    h = se * sp.stats.t._ppf((1+confidence)/2., n-1)\n",
    "    return m, m-h, m+h"
   ]
  },
  {
   "cell_type": "code",
   "execution_count": 39,
   "metadata": {},
   "outputs": [
    {
     "data": {
      "text/plain": [
       "(98.249230769230763, 98.122002905608028, 98.376458632853499)"
      ]
     },
     "execution_count": 39,
     "metadata": {},
     "output_type": "execute_result"
    }
   ],
   "source": [
    "conf_int = mean_confidence_interval(df.temperature, .95)\n",
    "conf_int"
   ]
  },
  {
   "cell_type": "markdown",
   "metadata": {},
   "source": [
    "4.Using a 95% confidence interval, we can consider a person's temperature abnormal if it's above 98.37F or below 98.12F"
   ]
  },
  {
   "cell_type": "code",
   "execution_count": 54,
   "metadata": {},
   "outputs": [
    {
     "name": "stdout",
     "output_type": "stream",
     "text": [
      "Male Mean: 98.1046153846154\n",
      "Female Mean: 98.39384615384613\n"
     ]
    }
   ],
   "source": [
    "# we've already calculated the means of both the men and women\n",
    "print('Male Mean:', M.mean())\n",
    "print('Female Mean:', F.mean())"
   ]
  },
  {
   "cell_type": "code",
   "execution_count": 56,
   "metadata": {},
   "outputs": [
    {
     "name": "stdout",
     "output_type": "stream",
     "text": [
      "-0.289230769230727\n"
     ]
    }
   ],
   "source": [
    "#the difference in the means is\n",
    "sample_diff = M.mean() - F.mean()\n",
    "print(sample_diff)"
   ]
  },
  {
   "cell_type": "code",
   "execution_count": 60,
   "metadata": {},
   "outputs": [
    {
     "name": "stdout",
     "output_type": "stream",
     "text": [
      "0.12655395041982642\n"
     ]
    }
   ],
   "source": [
    "# the standard error of sample_diff is\n",
    "standard_deviation_diff = math.sqrt((math.pow(M.std(), 2)/ M.size) + (math.pow(F.std(), 2)/ F.size))\n",
    "print(standard_deviation_diff)"
   ]
  },
  {
   "cell_type": "markdown",
   "metadata": {},
   "source": [
    "For question 5, I assumed that the hypothesis was that there is zero difference between the male and female population, meaning sample_diff would be zero. And then by using the standard deviation of both sets, I can find the standard error of sample_diff, and then use both sample_diff and standard_deviation_diff to find the probability of getting a difference of .289F. "
   ]
  },
  {
   "cell_type": "code",
   "execution_count": 63,
   "metadata": {},
   "outputs": [
    {
     "data": {
      "text/plain": [
       "1.114368038033863"
      ]
     },
     "execution_count": 63,
     "metadata": {},
     "output_type": "execute_result"
    }
   ],
   "source": [
    "stats.norm(0,1).cdf(sample_diff/standard_deviation_diff) * 100"
   ]
  },
  {
   "cell_type": "markdown",
   "metadata": {},
   "source": [
    "5.A 1.114% chance indicates that, on average, there is a difference between the male and female body temperature. \n"
   ]
  },
  {
   "cell_type": "markdown",
   "metadata": {},
   "source": [
    "Assuming that this dataset is representative of the global population, we can conclude that:\n",
    "    1. the distribution of body temperature is normal\n",
    "    2. we can say with 95% confidence that the real mean population temperature is between 98.37 and 98.12, and anything beyond that range can be considered to be abnormal\n",
    "    3. On average, the male body temperature is lower than females. This could be due to the male's homeostasis requirements. For example, sperm is very heat sensitive, and exposure to too much heat has been shown to cause male infertility.\n",
    "    "
   ]
  }
 ],
 "metadata": {
  "kernelspec": {
   "display_name": "Python 3",
   "language": "python",
   "name": "python3"
  },
  "language_info": {
   "codemirror_mode": {
    "name": "ipython",
    "version": 3
   },
   "file_extension": ".py",
   "mimetype": "text/x-python",
   "name": "python",
   "nbconvert_exporter": "python",
   "pygments_lexer": "ipython3",
   "version": "3.6.3"
  }
 },
 "nbformat": 4,
 "nbformat_minor": 2
}
